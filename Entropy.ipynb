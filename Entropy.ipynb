{
  "nbformat": 4,
  "nbformat_minor": 0,
  "metadata": {
    "colab": {
      "provenance": [],
      "authorship_tag": "ABX9TyPjs/WjhtvQXLmptcQnJNMQ",
      "include_colab_link": true
    },
    "kernelspec": {
      "name": "python3",
      "display_name": "Python 3"
    },
    "language_info": {
      "name": "python"
    }
  },
  "cells": [
    {
      "cell_type": "markdown",
      "metadata": {
        "id": "view-in-github",
        "colab_type": "text"
      },
      "source": [
        "<a href=\"https://colab.research.google.com/github/JhandryChimbo/data_mining/blob/main/Entropy.ipynb\" target=\"_parent\"><img src=\"https://colab.research.google.com/assets/colab-badge.svg\" alt=\"Open In Colab\"/></a>"
      ]
    },
    {
      "cell_type": "code",
      "execution_count": 1,
      "metadata": {
        "id": "MPehtiAi9f4s"
      },
      "outputs": [],
      "source": [
        "# Calculo de entropia\n",
        "from scipy.stats import entropy"
      ]
    },
    {
      "cell_type": "code",
      "source": [
        "entropia_s=entropy([9/14, 5/14], base=2)\n",
        "print(entropia_s)"
      ],
      "metadata": {
        "colab": {
          "base_uri": "https://localhost:8080/"
        },
        "id": "2e7IDJuQ9oRu",
        "outputId": "278852bb-4330-4dc3-8e3b-6eaa765dd74d"
      },
      "execution_count": 4,
      "outputs": [
        {
          "output_type": "stream",
          "name": "stdout",
          "text": [
            "0.940285958670631\n"
          ]
        }
      ]
    },
    {
      "cell_type": "code",
      "source": [],
      "metadata": {
        "id": "8gQOvZOu_T5R"
      },
      "execution_count": null,
      "outputs": []
    },
    {
      "cell_type": "markdown",
      "source": [],
      "metadata": {
        "id": "mBE_ACTz_vaJ"
      }
    },
    {
      "cell_type": "code",
      "source": [
        "ganancia_viento = entropia_s - (8/14)*entropy([6/8,2/8], base=2) - (6/14)*entropy([3/6,3/6], base =2)\n",
        "print(ganancia_viento)"
      ],
      "metadata": {
        "colab": {
          "base_uri": "https://localhost:8080/"
        },
        "id": "Twq-gtcg9vUX",
        "outputId": "98967913-3aa2-4df2-e1f2-751377dbecee"
      },
      "execution_count": 7,
      "outputs": [
        {
          "output_type": "stream",
          "name": "stdout",
          "text": [
            "0.04812703040826943\n"
          ]
        }
      ]
    },
    {
      "cell_type": "code",
      "source": [],
      "metadata": {
        "id": "1hR_SsVS_iCS"
      },
      "execution_count": null,
      "outputs": []
    }
  ]
}