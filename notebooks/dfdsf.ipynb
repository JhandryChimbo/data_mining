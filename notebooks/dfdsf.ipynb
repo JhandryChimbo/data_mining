{
 "cells": [
  {
   "cell_type": "markdown",
   "id": "7d87ca19",
   "metadata": {},
   "source": [
    "# Trabajo Practica Experimental Nº 4"
   ]
  },
  {
   "cell_type": "markdown",
   "id": "f4d76d3f",
   "metadata": {},
   "source": [
    "## 1. Introducción a los Árboles de Decisión\n",
    "Los árboles de decisión son modelos de aprendizaje supervisado utilizados para tareas de clasificación y regresión.\n",
    "Funcionan dividiendo el espacio de características en subconjuntos según criterios como Gini o Entropía, que permiten\n",
    "crear una estructura jerárquica para tomar decisiones."
   ]
  },
  {
   "cell_type": "markdown",
   "id": "ea5341fb",
   "metadata": {},
   "source": [
    "## 7. Optimización del Árbol de Decisión"
   ]
  },
  {
   "cell_type": "code",
   "execution_count": 1,
   "id": "pruning-path",
   "metadata": {},
   "outputs": [
    {
     "ename": "NameError",
     "evalue": "name 'DecisionTreeClassifier' is not defined",
     "output_type": "error",
     "traceback": [
      "\u001b[31m---------------------------------------------------------------------------\u001b[39m",
      "\u001b[31mNameError\u001b[39m                                 Traceback (most recent call last)",
      "\u001b[36mCell\u001b[39m\u001b[36m \u001b[39m\u001b[32mIn[1]\u001b[39m\u001b[32m, line 2\u001b[39m\n\u001b[32m      1\u001b[39m \u001b[38;5;66;03m# Obtener los valores de ccp_alpha para poda de costo-complejidad\u001b[39;00m\n\u001b[32m----> \u001b[39m\u001b[32m2\u001b[39m clf_full = \u001b[43mDecisionTreeClassifier\u001b[49m(random_state=\u001b[32m42\u001b[39m)\n\u001b[32m      3\u001b[39m clf_full.fit(X_train, y_train)\n\u001b[32m      4\u001b[39m path = clf_full.cost_complexity_pruning_path(X_train, y_train)\n",
      "\u001b[31mNameError\u001b[39m: name 'DecisionTreeClassifier' is not defined"
     ]
    }
   ],
   "source": [
    "# Obtener los valores de ccp_alpha para poda de costo-complejidad\n",
    "clf_full = DecisionTreeClassifier(random_state=42)\n",
    "clf_full.fit(X_train, y_train)\n",
    "path = clf_full.cost_complexity_pruning_path(X_train, y_train)\n",
    "ccp_alphas = path.ccp_alphas[:-1]  # excluir el último que poda completamente\n",
    "clfs = []\n",
    "\n",
    "for ccp_alpha in ccp_alphas:\n",
    "    clf = DecisionTreeClassifier(random_state=42, ccp_alpha=ccp_alpha)\n",
    "    clf.fit(X_train, y_train)\n",
    "    clfs.append(clf)"
   ]
  },
  {
   "cell_type": "code",
   "execution_count": null,
   "id": "pruning-plot",
   "metadata": {},
   "outputs": [],
   "source": [
    "# Evaluar rendimiento de los árboles con diferentes niveles de poda\n",
    "train_scores = [clf.score(X_train, y_train) for clf in clfs]\n",
    "test_scores = [clf.score(X_test, y_test) for clf in clfs]\n",
    "\n",
    "plt.figure(figsize=(10,6))\n",
    "plt.plot(ccp_alphas, train_scores, marker='o', label='Entrenamiento')\n",
    "plt.plot(ccp_alphas, test_scores, marker='s', label='Prueba')\n",
    "plt.xlabel(\"ccp_alpha\")\n",
    "plt.ylabel(\"Precisión\")\n",
    "plt.title(\"Precisión vs ccp_alpha (Poda de costo-complejidad)\")\n",
    "plt.legend()\n",
    "plt.grid(True)\n",
    "plt.show()"
   ]
  },
  {
   "cell_type": "code",
   "execution_count": null,
   "id": "pruning-best",
   "metadata": {},
   "outputs": [],
   "source": [
    "# Seleccionar el mejor árbol basado en precisión de prueba\n",
    "best_index = np.argmax(test_scores)\n",
    "best_alpha = ccp_alphas[best_index]\n",
    "clf_pruned = DecisionTreeClassifier(random_state=42, ccp_alpha=best_alpha)\n",
    "clf_pruned.fit(X_train, y_train)\n",
    "\n",
    "# Evaluar el modelo podado\n",
    "y_pred_pruned = clf_pruned.predict(X_test)\n",
    "print(\"Mejor ccp_alpha:\", best_alpha)\n",
    "print(classification_report(y_test, y_pred_pruned))"
   ]
  }
 ],
 "metadata": {
  "kernelspec": {
   "display_name": "Python 3",
   "language": "python",
   "name": "python3"
  },
  "language_info": {
   "codemirror_mode": {
    "name": "ipython",
    "version": 3
   },
   "file_extension": ".py",
   "mimetype": "text/x-python",
   "name": "python",
   "nbconvert_exporter": "python",
   "pygments_lexer": "ipython3",
   "version": "3.12.0"
  }
 },
 "nbformat": 4,
 "nbformat_minor": 5
}
