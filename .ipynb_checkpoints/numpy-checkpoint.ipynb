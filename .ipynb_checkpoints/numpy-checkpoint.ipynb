{
 "cells": [
  {
   "cell_type": "code",
   "execution_count": 2,
   "id": "046426bf-d08b-45b4-abcc-5a6b975ec2f7",
   "metadata": {},
   "outputs": [
    {
     "data": {
      "text/plain": [
       "[0.3829918569611928,\n",
       " 0.9061653179174575,\n",
       " -0.43938618692775566,\n",
       " -0.5643259993510277,\n",
       " 0.9066733980236711,\n",
       " 1.1997700071716884,\n",
       " 0.46486175399171425]"
      ]
     },
     "execution_count": 2,
     "metadata": {},
     "output_type": "execute_result"
    }
   ],
   "source": [
    "import numpy as np\n",
    "data = [np.random.standard_normal() for i in range (7)]\n",
    "data"
   ]
  }
 ],
 "metadata": {
  "kernelspec": {
   "display_name": "Python 3 (ipykernel)",
   "language": "python",
   "name": "python3"
  },
  "language_info": {
   "codemirror_mode": {
    "name": "ipython",
    "version": 3
   },
   "file_extension": ".py",
   "mimetype": "text/x-python",
   "name": "python",
   "nbconvert_exporter": "python",
   "pygments_lexer": "ipython3",
   "version": "3.12.0"
  }
 },
 "nbformat": 4,
 "nbformat_minor": 5
}
