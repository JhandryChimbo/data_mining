{
 "cells": [
  {
   "cell_type": "code",
   "execution_count": 2,
   "id": "046426bf-d08b-45b4-abcc-5a6b975ec2f7",
   "metadata": {},
   "outputs": [
    {
     "name": "stdout",
     "output_type": "stream",
     "text": [
      "[1.4556895032415949, -0.16090581113250935, 0.07532526011046192, 0.36660943329036016, 0.6313415190768016, 0.6929287261377982, -0.496626726400889]\n"
     ]
    },
    {
     "data": {
      "text/plain": [
       "[1.4556895032415949,\n",
       " -0.16090581113250935,\n",
       " 0.07532526011046192,\n",
       " 0.36660943329036016,\n",
       " 0.6313415190768016,\n",
       " 0.6929287261377982,\n",
       " -0.496626726400889]"
      ]
     },
     "execution_count": 2,
     "metadata": {},
     "output_type": "execute_result"
    }
   ],
   "source": [
    "import numpy as np\n",
    "data = [np.random.standard_normal() for i in range (7)]\n",
    "print(data)\n",
    "data\n"
   ]
  },
  {
   "cell_type": "code",
   "execution_count": null,
   "id": "93414ba4-c5fc-4528-b9d9-339c8ed586b7",
   "metadata": {},
   "outputs": [],
   "source": [
    "import matplotlib.pyplot as plt"
   ]
  },
  {
   "cell_type": "code",
   "execution_count": null,
   "id": "bd769e90-8d40-408a-83a1-d0de71880eb3",
   "metadata": {},
   "outputs": [],
   "source": []
  }
 ],
 "metadata": {
  "kernelspec": {
   "display_name": "Python 3 (ipykernel)",
   "language": "python",
   "name": "python3"
  },
  "language_info": {
   "codemirror_mode": {
    "name": "ipython",
    "version": 3
   },
   "file_extension": ".py",
   "mimetype": "text/x-python",
   "name": "python",
   "nbconvert_exporter": "python",
   "pygments_lexer": "ipython3",
   "version": "3.12.0"
  }
 },
 "nbformat": 4,
 "nbformat_minor": 5
}
