{
 "cells": [
  {
   "cell_type": "markdown",
   "id": "379fac64",
   "metadata": {},
   "source": [
    "# Trabajo en Clase N° 1\n",
    "## Tema: Manipulación de datos en Python con pandas\n",
    "\n",
    "**Estudiante:** Jhandry Santiago Chimbo Rivera"
   ]
  },
  {
   "cell_type": "code",
   "execution_count": 2,
   "id": "d89e6a8d",
   "metadata": {},
   "outputs": [],
   "source": [
    "# 1. Importar las librerías necesarias\n",
    "import pandas as pd\n",
    "import numpy as np"
   ]
  },
  {
   "cell_type": "code",
   "execution_count": 3,
   "id": "80351842",
   "metadata": {},
   "outputs": [],
   "source": [
    "# 2. Cargar el dataset Titanic\n",
    "data = pd.read_csv('titanic.csv')"
   ]
  },
  {
   "cell_type": "code",
   "execution_count": 4,
   "id": "d7217bce",
   "metadata": {},
   "outputs": [
    {
     "data": {
      "text/html": [
       "<div>\n",
       "<style scoped>\n",
       "    .dataframe tbody tr th:only-of-type {\n",
       "        vertical-align: middle;\n",
       "    }\n",
       "\n",
       "    .dataframe tbody tr th {\n",
       "        vertical-align: top;\n",
       "    }\n",
       "\n",
       "    .dataframe thead th {\n",
       "        text-align: right;\n",
       "    }\n",
       "</style>\n",
       "<table border=\"1\" class=\"dataframe\">\n",
       "  <thead>\n",
       "    <tr style=\"text-align: right;\">\n",
       "      <th></th>\n",
       "      <th>PassengerId</th>\n",
       "      <th>Survived</th>\n",
       "      <th>Pclass</th>\n",
       "      <th>Name</th>\n",
       "      <th>Sex</th>\n",
       "      <th>Age</th>\n",
       "      <th>SibSp</th>\n",
       "      <th>Parch</th>\n",
       "      <th>Ticket</th>\n",
       "      <th>Fare</th>\n",
       "      <th>Cabin</th>\n",
       "      <th>Embarked</th>\n",
       "    </tr>\n",
       "  </thead>\n",
       "  <tbody>\n",
       "    <tr>\n",
       "      <th>0</th>\n",
       "      <td>1</td>\n",
       "      <td>0</td>\n",
       "      <td>3</td>\n",
       "      <td>Braund, Mr. Owen Harris</td>\n",
       "      <td>male</td>\n",
       "      <td>22.0</td>\n",
       "      <td>1</td>\n",
       "      <td>0</td>\n",
       "      <td>A/5 21171</td>\n",
       "      <td>7.2500</td>\n",
       "      <td>NaN</td>\n",
       "      <td>S</td>\n",
       "    </tr>\n",
       "    <tr>\n",
       "      <th>1</th>\n",
       "      <td>2</td>\n",
       "      <td>1</td>\n",
       "      <td>1</td>\n",
       "      <td>Cumings, Mrs. John Bradley (Florence Briggs Th...</td>\n",
       "      <td>female</td>\n",
       "      <td>38.0</td>\n",
       "      <td>1</td>\n",
       "      <td>0</td>\n",
       "      <td>PC 17599</td>\n",
       "      <td>71.2833</td>\n",
       "      <td>C85</td>\n",
       "      <td>C</td>\n",
       "    </tr>\n",
       "    <tr>\n",
       "      <th>2</th>\n",
       "      <td>3</td>\n",
       "      <td>1</td>\n",
       "      <td>3</td>\n",
       "      <td>Heikkinen, Miss. Laina</td>\n",
       "      <td>female</td>\n",
       "      <td>26.0</td>\n",
       "      <td>0</td>\n",
       "      <td>0</td>\n",
       "      <td>STON/O2. 3101282</td>\n",
       "      <td>7.9250</td>\n",
       "      <td>NaN</td>\n",
       "      <td>S</td>\n",
       "    </tr>\n",
       "    <tr>\n",
       "      <th>3</th>\n",
       "      <td>4</td>\n",
       "      <td>1</td>\n",
       "      <td>1</td>\n",
       "      <td>Futrelle, Mrs. Jacques Heath (Lily May Peel)</td>\n",
       "      <td>female</td>\n",
       "      <td>35.0</td>\n",
       "      <td>1</td>\n",
       "      <td>0</td>\n",
       "      <td>113803</td>\n",
       "      <td>53.1000</td>\n",
       "      <td>C123</td>\n",
       "      <td>S</td>\n",
       "    </tr>\n",
       "    <tr>\n",
       "      <th>4</th>\n",
       "      <td>5</td>\n",
       "      <td>0</td>\n",
       "      <td>3</td>\n",
       "      <td>Allen, Mr. William Henry</td>\n",
       "      <td>male</td>\n",
       "      <td>35.0</td>\n",
       "      <td>0</td>\n",
       "      <td>0</td>\n",
       "      <td>373450</td>\n",
       "      <td>8.0500</td>\n",
       "      <td>NaN</td>\n",
       "      <td>S</td>\n",
       "    </tr>\n",
       "  </tbody>\n",
       "</table>\n",
       "</div>"
      ],
      "text/plain": [
       "   PassengerId  Survived  Pclass  \\\n",
       "0            1         0       3   \n",
       "1            2         1       1   \n",
       "2            3         1       3   \n",
       "3            4         1       1   \n",
       "4            5         0       3   \n",
       "\n",
       "                                                Name     Sex   Age  SibSp  \\\n",
       "0                            Braund, Mr. Owen Harris    male  22.0      1   \n",
       "1  Cumings, Mrs. John Bradley (Florence Briggs Th...  female  38.0      1   \n",
       "2                             Heikkinen, Miss. Laina  female  26.0      0   \n",
       "3       Futrelle, Mrs. Jacques Heath (Lily May Peel)  female  35.0      1   \n",
       "4                           Allen, Mr. William Henry    male  35.0      0   \n",
       "\n",
       "   Parch            Ticket     Fare Cabin Embarked  \n",
       "0      0         A/5 21171   7.2500   NaN        S  \n",
       "1      0          PC 17599  71.2833   C85        C  \n",
       "2      0  STON/O2. 3101282   7.9250   NaN        S  \n",
       "3      0            113803  53.1000  C123        S  \n",
       "4      0            373450   8.0500   NaN        S  "
      ]
     },
     "execution_count": 4,
     "metadata": {},
     "output_type": "execute_result"
    }
   ],
   "source": [
    "# 3. Exploración inicial del conjunto de datos\n",
    "data.head()\n"
   ]
  },
  {
   "cell_type": "code",
   "execution_count": 5,
   "id": "6d5a2be3",
   "metadata": {},
   "outputs": [
    {
     "name": "stdout",
     "output_type": "stream",
     "text": [
      "Filas: 891, Columnas: 12\n"
     ]
    }
   ],
   "source": [
    "# ¿Cuántas filas y columnas tiene el dataset?\n",
    "print(f\"Filas: {data.shape[0]}, Columnas: {data.shape[1]}\")"
   ]
  },
  {
   "cell_type": "code",
   "execution_count": 6,
   "id": "54fce55c",
   "metadata": {},
   "outputs": [
    {
     "name": "stdout",
     "output_type": "stream",
     "text": [
      "PassengerId      int64\n",
      "Survived         int64\n",
      "Pclass           int64\n",
      "Name            object\n",
      "Sex             object\n",
      "Age            float64\n",
      "SibSp            int64\n",
      "Parch            int64\n",
      "Ticket          object\n",
      "Fare           float64\n",
      "Cabin           object\n",
      "Embarked        object\n",
      "dtype: object\n"
     ]
    }
   ],
   "source": [
    "# ¿Qué tipo de datos contiene cada columna?\n",
    "print(data.dtypes)"
   ]
  },
  {
   "cell_type": "code",
   "execution_count": 7,
   "id": "ce9d190e",
   "metadata": {},
   "outputs": [
    {
     "data": {
      "text/html": [
       "<div>\n",
       "<style scoped>\n",
       "    .dataframe tbody tr th:only-of-type {\n",
       "        vertical-align: middle;\n",
       "    }\n",
       "\n",
       "    .dataframe tbody tr th {\n",
       "        vertical-align: top;\n",
       "    }\n",
       "\n",
       "    .dataframe thead th {\n",
       "        text-align: right;\n",
       "    }\n",
       "</style>\n",
       "<table border=\"1\" class=\"dataframe\">\n",
       "  <thead>\n",
       "    <tr style=\"text-align: right;\">\n",
       "      <th></th>\n",
       "      <th>Survived</th>\n",
       "      <th>Pclass</th>\n",
       "      <th>Sex</th>\n",
       "      <th>Age</th>\n",
       "      <th>SibSp</th>\n",
       "      <th>Parch</th>\n",
       "      <th>Fare</th>\n",
       "      <th>Embarked</th>\n",
       "    </tr>\n",
       "  </thead>\n",
       "  <tbody>\n",
       "    <tr>\n",
       "      <th>0</th>\n",
       "      <td>0</td>\n",
       "      <td>3</td>\n",
       "      <td>male</td>\n",
       "      <td>22.0</td>\n",
       "      <td>1</td>\n",
       "      <td>0</td>\n",
       "      <td>7.2500</td>\n",
       "      <td>S</td>\n",
       "    </tr>\n",
       "    <tr>\n",
       "      <th>1</th>\n",
       "      <td>1</td>\n",
       "      <td>1</td>\n",
       "      <td>female</td>\n",
       "      <td>38.0</td>\n",
       "      <td>1</td>\n",
       "      <td>0</td>\n",
       "      <td>71.2833</td>\n",
       "      <td>C</td>\n",
       "    </tr>\n",
       "    <tr>\n",
       "      <th>2</th>\n",
       "      <td>1</td>\n",
       "      <td>3</td>\n",
       "      <td>female</td>\n",
       "      <td>26.0</td>\n",
       "      <td>0</td>\n",
       "      <td>0</td>\n",
       "      <td>7.9250</td>\n",
       "      <td>S</td>\n",
       "    </tr>\n",
       "    <tr>\n",
       "      <th>3</th>\n",
       "      <td>1</td>\n",
       "      <td>1</td>\n",
       "      <td>female</td>\n",
       "      <td>35.0</td>\n",
       "      <td>1</td>\n",
       "      <td>0</td>\n",
       "      <td>53.1000</td>\n",
       "      <td>S</td>\n",
       "    </tr>\n",
       "    <tr>\n",
       "      <th>4</th>\n",
       "      <td>0</td>\n",
       "      <td>3</td>\n",
       "      <td>male</td>\n",
       "      <td>35.0</td>\n",
       "      <td>0</td>\n",
       "      <td>0</td>\n",
       "      <td>8.0500</td>\n",
       "      <td>S</td>\n",
       "    </tr>\n",
       "  </tbody>\n",
       "</table>\n",
       "</div>"
      ],
      "text/plain": [
       "   Survived  Pclass     Sex   Age  SibSp  Parch     Fare Embarked\n",
       "0         0       3    male  22.0      1      0   7.2500        S\n",
       "1         1       1  female  38.0      1      0  71.2833        C\n",
       "2         1       3  female  26.0      0      0   7.9250        S\n",
       "3         1       1  female  35.0      1      0  53.1000        S\n",
       "4         0       3    male  35.0      0      0   8.0500        S"
      ]
     },
     "execution_count": 7,
     "metadata": {},
     "output_type": "execute_result"
    }
   ],
   "source": [
    "# 4. Limpieza de datos\n",
    "# Eliminar las columnas que no son relevantes\n",
    "data_cleaned = data.drop(columns=['PassengerId', 'Name', 'Ticket', 'Cabin'])\n",
    "data_cleaned.head()"
   ]
  },
  {
   "cell_type": "code",
   "execution_count": 8,
   "id": "b1a20f46",
   "metadata": {},
   "outputs": [
    {
     "name": "stdout",
     "output_type": "stream",
     "text": [
      "Valores nulos en 'Age' antes de rellenar: 177\n"
     ]
    }
   ],
   "source": [
    "# Reemplazar valores nulos de Age con la mediana\n",
    "age_nulls_before = data_cleaned['Age'].isnull().sum()\n",
    "print(f\"Valores nulos en 'Age' antes de rellenar: {age_nulls_before}\")"
   ]
  },
  {
   "cell_type": "code",
   "execution_count": 9,
   "id": "d17515e9",
   "metadata": {},
   "outputs": [],
   "source": [
    "median_age = data_cleaned['Age'].median()\n",
    "data_cleaned['Age'] = data_cleaned['Age'].fillna(median_age)"
   ]
  },
  {
   "cell_type": "code",
   "execution_count": 10,
   "id": "b3a43b45",
   "metadata": {},
   "outputs": [
    {
     "name": "stdout",
     "output_type": "stream",
     "text": [
      "Moda de 'Embarked': S\n"
     ]
    }
   ],
   "source": [
    "# Llenar valores faltantes de Embarked con la moda\n",
    "mode_embarked = data_cleaned['Embarked'].mode()[0]\n",
    "print(f\"Moda de 'Embarked': {mode_embarked}\")\n",
    "data_cleaned['Embarked'] = data_cleaned['Embarked'].fillna(mode_embarked)"
   ]
  },
  {
   "cell_type": "code",
   "execution_count": 11,
   "id": "f07c78a2",
   "metadata": {},
   "outputs": [],
   "source": [
    "# 5. Transformaciones y filtrado\n",
    "# Crear nueva columna FamilySize\n",
    "data_cleaned['Family_Size'] = data_cleaned['SibSp'] + data_cleaned['Parch']\n"
   ]
  },
  {
   "cell_type": "code",
   "execution_count": 12,
   "id": "e1f4e002",
   "metadata": {},
   "outputs": [
    {
     "name": "stdout",
     "output_type": "stream",
     "text": [
      "Cantidad de menores de edad: 113\n"
     ]
    }
   ],
   "source": [
    "# Filtrar pasajeros menores de 18 años\n",
    "minors = data_cleaned[data_cleaned['Age'] < 18]\n",
    "print(f\"Cantidad de menores de edad: {len(minors)}\")"
   ]
  },
  {
   "cell_type": "code",
   "execution_count": 13,
   "id": "a2f9b966",
   "metadata": {},
   "outputs": [],
   "source": [
    "# Convertir 'Sex' a valores numéricos (male=1, female=0)\n",
    "data_cleaned['Sex'] = data_cleaned['Sex'].map({'male': 1, 'female': 0})"
   ]
  },
  {
   "cell_type": "code",
   "execution_count": 14,
   "id": "b29aa345",
   "metadata": {},
   "outputs": [
    {
     "name": "stdout",
     "output_type": "stream",
     "text": [
      "Cantidad de pasajeros que viajaban solos: 537\n"
     ]
    }
   ],
   "source": [
    "# Contar pasajeros que viajaban solos (FamilySize == 0)\n",
    "solo_passengers = data_cleaned[data_cleaned['Family_Size'] == 0]\n",
    "print(f\"Cantidad de pasajeros que viajaban solos: {len(solo_passengers)}\")"
   ]
  },
  {
   "cell_type": "code",
   "execution_count": 15,
   "id": "ce2f6b3d",
   "metadata": {},
   "outputs": [
    {
     "name": "stdout",
     "output_type": "stream",
     "text": [
      "\n",
      "Edad promedio por clase y sexo:\n",
      "Pclass  Sex\n",
      "1       0      33.978723\n",
      "        1      38.995246\n",
      "2       0      28.703947\n",
      "        1      30.512315\n",
      "3       0      23.572917\n",
      "        1      26.911873\n",
      "Name: Age, dtype: float64\n"
     ]
    }
   ],
   "source": [
    "# 6. Agrupamientos y estadísticas\n",
    "# Edad promedio por clase y sexo\n",
    "mean_age = data_cleaned.groupby(['Pclass', 'Sex'])['Age'].mean()\n",
    "print(\"\\nEdad promedio por clase y sexo:\")\n",
    "print(mean_age)"
   ]
  },
  {
   "cell_type": "code",
   "execution_count": 16,
   "id": "9ef77b78",
   "metadata": {},
   "outputs": [
    {
     "name": "stdout",
     "output_type": "stream",
     "text": [
      "\n",
      "Tasa de supervivencia por puerto de embarque:\n",
      "Embarked\n",
      "C    0.553571\n",
      "Q    0.389610\n",
      "S    0.339009\n",
      "Name: Survived, dtype: float64\n"
     ]
    }
   ],
   "source": [
    "# Tasa de supervivencia por puerto de embarque\n",
    "survival_rate_embarked = data_cleaned.groupby('Embarked')['Survived'].mean()\n",
    "print(\"\\nTasa de supervivencia por puerto de embarque:\")\n",
    "print(survival_rate_embarked)"
   ]
  },
  {
   "cell_type": "code",
   "execution_count": 17,
   "id": "a49de560",
   "metadata": {},
   "outputs": [],
   "source": [
    "# Tasa de supervivencia por grupos de edad\n",
    "# Crear una nueva columna para categorizar edades\n",
    "def age_group(Age):\n",
    "    if Age < 18:\n",
    "        return 'menor'\n",
    "    elif 18 <= Age <= 50:\n",
    "        return 'adulto'\n",
    "    else:\n",
    "        return 'mayor'"
   ]
  },
  {
   "cell_type": "code",
   "execution_count": 18,
   "id": "46c6c9cd",
   "metadata": {},
   "outputs": [
    {
     "name": "stdout",
     "output_type": "stream",
     "text": [
      "\n",
      "Tasa de supervivencia por grupo de edad:\n",
      "Age_Group\n",
      "adulto    0.362745\n",
      "mayor     0.343750\n",
      "menor     0.539823\n",
      "Name: Survived, dtype: float64\n"
     ]
    }
   ],
   "source": [
    "# Aplicar categoría\n",
    "data_cleaned['Age_Group'] = data_cleaned['Age'].apply(age_group)\n",
    "\n",
    "survival_rate_agegroup = data_cleaned.groupby('Age_Group')['Survived'].mean()\n",
    "print(\"\\nTasa de supervivencia por grupo de edad:\")\n",
    "print(survival_rate_agegroup)"
   ]
  },
  {
   "cell_type": "code",
   "execution_count": 19,
   "id": "fc286ac6",
   "metadata": {},
   "outputs": [
    {
     "name": "stdout",
     "output_type": "stream",
     "text": [
      "\n",
      "Clase y sexo con mayor edad promedio: Clase 1, Sexo Male\n"
     ]
    }
   ],
   "source": [
    "# Respuestas de las preguntas:\n",
    "# ¿Qué clase y sexo tenía mayor edad promedio?\n",
    "max_mean_age = mean_age.idxmax()\n",
    "print(f\"\\nClase y sexo con mayor edad promedio: Clase {max_mean_age[0]}, Sexo {'Male' if max_mean_age[1]==1 else 'Female'}\")"
   ]
  },
  {
   "cell_type": "code",
   "execution_count": 20,
   "id": "e265d0ec",
   "metadata": {},
   "outputs": [
    {
     "name": "stdout",
     "output_type": "stream",
     "text": [
      "\n",
      "Puerto de embarque con más sobrevivientes: C\n"
     ]
    }
   ],
   "source": [
    "# ¿Desde qué puerto embarcaron más sobrevivientes?\n",
    "max_survival_port = survival_rate_embarked.idxmax()\n",
    "print(f\"\\nPuerto de embarque con más sobrevivientes: {max_survival_port}\")"
   ]
  }
 ],
 "metadata": {
  "kernelspec": {
   "display_name": "Python 3",
   "language": "python",
   "name": "python3"
  },
  "language_info": {
   "codemirror_mode": {
    "name": "ipython",
    "version": 3
   },
   "file_extension": ".py",
   "mimetype": "text/x-python",
   "name": "python",
   "nbconvert_exporter": "python",
   "pygments_lexer": "ipython3",
   "version": "3.12.0"
  }
 },
 "nbformat": 4,
 "nbformat_minor": 5
}
